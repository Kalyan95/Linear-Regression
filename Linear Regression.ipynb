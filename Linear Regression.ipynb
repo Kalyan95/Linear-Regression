{
 "cells": [
  {
   "cell_type": "code",
   "execution_count": 1,
   "metadata": {},
   "outputs": [],
   "source": [
    "# Importing required libraries\n",
    "\n",
    "import numpy as np\n",
    "import pandas as pd\n",
    "from numpy.linalg import inv\n",
    "from sklearn.model_selection import train_test_split\n",
    "%matplotlib inline\n",
    "import matplotlib.pyplot as plt"
   ]
  },
  {
   "cell_type": "code",
   "execution_count": 2,
   "metadata": {},
   "outputs": [
    {
     "name": "stdout",
     "output_type": "stream",
     "text": [
      "Total number of samples in the dataset is 40949\n",
      "Number of attributes per sample is 53\n"
     ]
    }
   ],
   "source": [
    "# Reading in the dataset and dropping the last coloumn with all zero entires\n",
    "\n",
    "dataset = pd.read_csv(\"Features_Variant_1.csv\",header=None)\n",
    "dataset = dataset.drop(37,1)\n",
    "print(\"Total number of samples in the dataset is {}\".format(dataset.shape[0]))\n",
    "print(\"Number of attributes per sample is {}\".format(dataset.shape[1]))"
   ]
  },
  {
   "cell_type": "code",
   "execution_count": 3,
   "metadata": {},
   "outputs": [],
   "source": [
    "#feature data frame: independent variables: all columns except last one\n",
    "X = dataset.iloc[:, :-1].values \n",
    "\n",
    "#dependent variable (only the last column, -1: is the last column)\n",
    "y = dataset.iloc[:, -1].values "
   ]
  },
  {
   "cell_type": "code",
   "execution_count": 4,
   "metadata": {},
   "outputs": [],
   "source": [
    "# Splitting the data into three dataset\n",
    "# Set A - Training set - 80% Test set - 20%\n",
    "# Set B - Training set - 50% Test set - 50%\n",
    "# Set C - Training set - 20% Test set - 80%\n",
    "\n",
    "XAtrain,XAtest,yAtrain,yAtest = train_test_split(X,y,test_size=0.2,random_state=123456)\n",
    "XBtrain,XBtest,yBtrain,yBtest = train_test_split(X,y,test_size=0.5,random_state=123456)\n",
    "XCtrain,XCtest,yCtrain,yCtest = train_test_split(X,y,test_size=0.8,random_state=123456)\n"
   ]
  },
  {
   "cell_type": "code",
   "execution_count": 5,
   "metadata": {},
   "outputs": [],
   "source": [
    "# Input : dataset (X,y)\n",
    "# Output: weight vector that minimizes the minimum SSE function computed using the closed form solution.\n",
    "\n",
    "def solveWeights_version1(X,y):\n",
    "    \n",
    "    w = inv(X.T.dot(X)).dot(X.T).dot(y)\n",
    "    return w"
   ]
  },
  {
   "cell_type": "code",
   "execution_count": 6,
   "metadata": {},
   "outputs": [],
   "source": [
    "# Input : X and w\n",
    "# Output: predicted targets hw(x) = yHat using the weight vector and data X\n",
    "\n",
    "def predict(X,w):\n",
    "    yHat = X.dot(w)\n",
    "    return yHat"
   ]
  },
  {
   "cell_type": "code",
   "execution_count": 7,
   "metadata": {},
   "outputs": [],
   "source": [
    "# Calculating the Sum Squared Error\n",
    "\n",
    "def computeSSE(y,yHat):\n",
    "    SSE = (y-yHat).T.dot(y-yHat)\n",
    "    return SSE"
   ]
  },
  {
   "cell_type": "code",
   "execution_count": 8,
   "metadata": {},
   "outputs": [],
   "source": [
    "# SET A\n",
    "# Add the 1's column in the Xtrain and Xtest to add bias as a training feature\n",
    "\n",
    "XAtrain = np.c_[np.ones((XAtrain.shape[0])),XAtrain]\n",
    "XAtest = np.c_[np.ones((XAtest.shape[0])),XAtest]\n",
    "wA = solveWeights_version1(XAtrain,yAtrain)\n",
    "# wA.shape\n",
    "yHatA = predict(XAtest,wA)\n",
    "# yHatA.shape"
   ]
  },
  {
   "cell_type": "code",
   "execution_count": 9,
   "metadata": {},
   "outputs": [
    {
     "name": "stdout",
     "output_type": "stream",
     "text": [
      "SSE using closed form solution 162450949911.5593 [SET A]\n"
     ]
    }
   ],
   "source": [
    "# Sum Squared Error for SET A\n",
    "\n",
    "SSE_A = computeSSE(yAtest,yHatA)\n",
    "print(\"SSE using closed form solution {:.4f} [SET A]\".format(SSE_A))"
   ]
  },
  {
   "cell_type": "code",
   "execution_count": 10,
   "metadata": {},
   "outputs": [],
   "source": [
    "# SET B\n",
    "\n",
    "XBtrain = np.c_[np.ones((XBtrain.shape[0])),XBtrain]\n",
    "XBtest = np.c_[np.ones((XBtest.shape[0])),XBtest]\n",
    "wB = solveWeights_version1(XBtrain,yBtrain)\n",
    "# wB.shape\n",
    "yHatB = predict(XBtest,wB)\n",
    "# yHatB.shape"
   ]
  },
  {
   "cell_type": "code",
   "execution_count": 11,
   "metadata": {},
   "outputs": [
    {
     "name": "stdout",
     "output_type": "stream",
     "text": [
      "SSE using closed form solution 146602789054.2857 [SET B]\n"
     ]
    }
   ],
   "source": [
    "# Sum Squared Error for SET B\n",
    "\n",
    "SSE_B = computeSSE(yBtest,yHatB)\n",
    "print(\"SSE using closed form solution {:.4f} [SET B]\".format(SSE_B))"
   ]
  },
  {
   "cell_type": "code",
   "execution_count": 12,
   "metadata": {},
   "outputs": [],
   "source": [
    "# SET C\n",
    "\n",
    "\n",
    "XCtrain = np.c_[np.ones((XCtrain.shape[0])),XCtrain]\n",
    "XCtest = np.c_[np.ones((XCtest.shape[0])),XCtest]\n",
    "\n",
    "wC = solveWeights_version1(XCtrain,yCtrain)\n",
    "# wC.shape\n",
    "yHatC = predict(XCtest,wC)\n",
    "# yHatC.shape"
   ]
  },
  {
   "cell_type": "code",
   "execution_count": 13,
   "metadata": {},
   "outputs": [
    {
     "name": "stdout",
     "output_type": "stream",
     "text": [
      "SSE using closed form solution 2604317752767.0439 [C set]\n"
     ]
    }
   ],
   "source": [
    "SSE_C = computeSSE(yCtest,yHatC)\n",
    "print(\"SSE using closed form solution {:.4f} [C set]\".format(SSE_C))"
   ]
  },
  {
   "cell_type": "code",
   "execution_count": 14,
   "metadata": {},
   "outputs": [
    {
     "data": {
      "image/png": "[encoded data removed]",
      "text/plain": [
       "<Figure size 432x288 with 1 Axes>"
      ]
     },
     "metadata": {
      "needs_background": "light"
     },
     "output_type": "display_data"
    }
   ],
   "source": [
    "# Plotting the SSE at for each of the three sets of data\n",
    " \n",
    "objects = ('A (80-20 split)', 'B (50-50 split)', 'C (20-80 split)')\n",
    "y_pos = np.arange(len(objects))\n",
    "performance = [SSE_A,SSE_B,SSE_C]\n",
    " \n",
    "plt.bar(y_pos, performance, align='center', alpha=0.5)\n",
    "plt.xticks(y_pos, objects)\n",
    "plt.ylabel('SSE')\n",
    "plt.title('SSE over 3 different types of splits')\n",
    " \n",
    "plt.show()"
   ]
  },
  {
   "cell_type": "code",
   "execution_count": 15,
   "metadata": {},
   "outputs": [],
   "source": [
    "# REGULARIZATION\n",
    "\n",
    "def solveWeights_version2(X,y,lambdaVal):\n",
    "    # Input dataset (X,y)\n",
    "    # Output: weight vector that minimizes the minimum SSE function computed using the closed form solution\n",
    "    #         (with l2 regularization on w)\n",
    "    XtX = X.T.dot(X)\n",
    "    I = np.eye(XtX.shape[0])\n",
    "    w = inv(lambdaVal*I + XtX).dot(X.T).dot(y)\n",
    "    return w"
   ]
  },
  {
   "cell_type": "code",
   "execution_count": 16,
   "metadata": {},
   "outputs": [],
   "source": [
    "# Calculating the SSE after regualarization\n",
    "\n",
    "def getSSE_fromExperiment(Xtrain,ytrain,Xtest,ytest,lambdaVal):\n",
    "    #don't forget to add the 1 column in the Xtrain and Xtest\n",
    "    Xtrain = np.c_[np.ones((Xtrain.shape[0])),Xtrain]\n",
    "    Xtest = np.c_[np.ones((Xtest.shape[0])),Xtest]\n",
    "    \n",
    "    w = solveWeights_version2(Xtrain,ytrain,lambdaVal)\n",
    "    \n",
    "    yHat = predict(Xtest,w)\n",
    "    SSE = computeSSE(ytest,yHat)\n",
    "    \n",
    "    return SSE"
   ]
  },
  {
   "cell_type": "code",
   "execution_count": 17,
   "metadata": {},
   "outputs": [],
   "source": [
    "# Intializing regularization paramenter LAMBDA with different values\n",
    "\n",
    "lambdaVals = [0.1,1,10,100]\n",
    "SSEMatrix = np.zeros( (len(lambdaVals),3) )\n",
    "for i in np.arange(0,4):\n",
    "    l = lambdaVals[i]\n",
    "    SSEMatrix[i,0] = getSSE_fromExperiment(XAtrain,yAtrain,XAtest,yAtest,l)\n",
    "    SSEMatrix[i,1] = getSSE_fromExperiment(XBtrain,yBtrain,XBtest,yBtest,l)\n",
    "    SSEMatrix[i,2] = getSSE_fromExperiment(XCtrain,yCtrain,XCtest,yCtest,l)"
   ]
  },
  {
   "cell_type": "code",
   "execution_count": 18,
   "metadata": {},
   "outputs": [
    {
     "data": {
      "text/plain": [
       "<matplotlib.axes._subplots.AxesSubplot at 0x192b8662438>"
      ]
     },
     "execution_count": 18,
     "metadata": {},
     "output_type": "execute_result"
    },
    {
     "data": {
      "image/png": "[encoded data removed]",
      "text/plain": [
       "<Figure size 432x288 with 1 Axes>"
      ]
     },
     "metadata": {
      "needs_background": "light"
     },
     "output_type": "display_data"
    }
   ],
   "source": [
    "# Plotting the SSE values at each Lambda value for the three Sets A,B,C.\n",
    "\n",
    "df = pd.DataFrame(SSEMatrix.T, index=['A', 'B', 'C'],columns=pd.Index(['{}'.format(lambdaVals[0]), '{}'.format(lambdaVals[1]), '{}'.format(lambdaVals[2]), '{}'.format(lambdaVals[3])], name='$\\lambda$ values'))\n",
    "df.plot(kind='bar',title='SSE with regularized version')\n"
   ]
  }
 ],
 "metadata": {
  "kernelspec": {
   "display_name": "Python 3",
   "language": "python",
   "name": "python3"
  },
  "language_info": {
   "codemirror_mode": {
    "name": "ipython",
    "version": 3
   },
   "file_extension": ".py",
   "mimetype": "text/x-python",
   "name": "python",
   "nbconvert_exporter": "python",
   "pygments_lexer": "ipython3",
   "version": "3.7.2"
  }
 },
 "nbformat": 4,
 "nbformat_minor": 2
}
